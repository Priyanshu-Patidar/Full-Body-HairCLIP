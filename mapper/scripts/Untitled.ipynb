{
 "cells": [
  {
   "cell_type": "code",
   "execution_count": 4,
   "id": "93d89406-ce40-4383-b568-c7663189b3df",
   "metadata": {},
   "outputs": [
    {
     "ename": "ModuleNotFoundError",
     "evalue": "No module named 'mapper.options'",
     "output_type": "error",
     "traceback": [
      "\u001b[1;31m---------------------------------------------------------------------------\u001b[0m",
      "\u001b[1;31mModuleNotFoundError\u001b[0m                       Traceback (most recent call last)",
      "\u001b[1;32m~\\AppData\\Local\\Temp\\ipykernel_14288\\1425278285.py\u001b[0m in \u001b[0;36m<module>\u001b[1;34m\u001b[0m\n\u001b[0;32m     10\u001b[0m \u001b[0msys\u001b[0m\u001b[1;33m.\u001b[0m\u001b[0mpath\u001b[0m\u001b[1;33m.\u001b[0m\u001b[0mappend\u001b[0m\u001b[1;33m(\u001b[0m\u001b[1;34m\"..\"\u001b[0m\u001b[1;33m)\u001b[0m\u001b[1;33m\u001b[0m\u001b[1;33m\u001b[0m\u001b[0m\n\u001b[0;32m     11\u001b[0m \u001b[1;33m\u001b[0m\u001b[0m\n\u001b[1;32m---> 12\u001b[1;33m \u001b[1;32mfrom\u001b[0m \u001b[0mmapper\u001b[0m\u001b[1;33m.\u001b[0m\u001b[0moptions\u001b[0m\u001b[1;33m.\u001b[0m\u001b[0mtrain_options\u001b[0m \u001b[1;32mimport\u001b[0m \u001b[0mTrainOptions\u001b[0m\u001b[1;33m\u001b[0m\u001b[1;33m\u001b[0m\u001b[0m\n\u001b[0m\u001b[0;32m     13\u001b[0m \u001b[1;32mfrom\u001b[0m \u001b[0mmapper\u001b[0m\u001b[1;33m.\u001b[0m\u001b[0mtraining\u001b[0m\u001b[1;33m.\u001b[0m\u001b[0mcoach\u001b[0m \u001b[1;32mimport\u001b[0m \u001b[0mCoach\u001b[0m\u001b[1;33m\u001b[0m\u001b[1;33m\u001b[0m\u001b[0m\n\u001b[0;32m     14\u001b[0m \u001b[1;33m\u001b[0m\u001b[0m\n",
      "\u001b[1;31mModuleNotFoundError\u001b[0m: No module named 'mapper.options'"
     ]
    }
   ],
   "source": [
    "\"\"\"\n",
    "This file runs the main training/val loop\n",
    "\"\"\"\n",
    "import os\n",
    "import json\n",
    "import sys\n",
    "import pprint\n",
    "\n",
    "sys.path.append(\".\")\n",
    "sys.path.append(\"..\")\n",
    "\n",
    "from mapper.options.train_options import TrainOptions\n",
    "from mapper.training.coach import Coach\n",
    "\n",
    "\n",
    "def main(opts):\n",
    "\tif os.path.exists(opts.exp_dir):\n",
    "\t\traise Exception('Oops... {} already exists'.format(opts.exp_dir))\n",
    "\tos.makedirs(opts.exp_dir, exist_ok=True)\n",
    "\n",
    "\topts_dict = vars(opts)\n",
    "\tpprint.pprint(opts_dict)\n",
    "\twith open(os.path.join(opts.exp_dir, 'opt.json'), 'w') as f:\n",
    "\t\tjson.dump(opts_dict, f, indent=4, sort_keys=True)\n",
    "\n",
    "\tcoach = Coach(opts)\n",
    "\tcoach.train()\n",
    "\n",
    "\n",
    "if __name__ == '__main__':\n",
    "\topts = TrainOptions().parse()\n",
    "\tif opts.batch_size != 1 or opts.test_batch_size != 1:\n",
    "\t\traise Exception('This version only supports batch size and test batch size to be 1.')\n",
    "\tmain(opts)\n"
   ]
  },
  {
   "cell_type": "code",
   "execution_count": null,
   "id": "f285bfc5-98c4-4713-9646-96ab64685d2c",
   "metadata": {},
   "outputs": [],
   "source": []
  }
 ],
 "metadata": {
  "kernelspec": {
   "display_name": "Python 3 (ipykernel)",
   "language": "python",
   "name": "python3"
  },
  "language_info": {
   "codemirror_mode": {
    "name": "ipython",
    "version": 3
   },
   "file_extension": ".py",
   "mimetype": "text/x-python",
   "name": "python",
   "nbconvert_exporter": "python",
   "pygments_lexer": "ipython3",
   "version": "3.8.0"
  }
 },
 "nbformat": 4,
 "nbformat_minor": 5
}
